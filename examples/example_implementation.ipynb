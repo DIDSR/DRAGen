{
 "cells": [
  {
   "cell_type": "markdown",
   "metadata": {},
   "source": [
    "### Contents\n",
    "* [Decision Region Generation](#decision-region-generation)\n",
    "* [Decision Region Analysis](#decision-region-analysis)\n",
    "  * [Aggregation Modes](#aggregation-modes)\n",
    "  * [Types of Plots](#types-of-plots)\n",
    "* [Complete Implementation](#complete-implementation)\n",
    "\n",
    "**Note:** all output files are saved in the RST_Decision_Region_Analysis/examples folder (the folder this notebook is in), and all plots are displayed in this notebook file."
   ]
  },
  {
   "cell_type": "markdown",
   "metadata": {},
   "source": [
    "### Decision Region Generation\n",
    "Generates triplets of samples, creates vicinal distributions, and evaluates the virtual images using the provided model. Saves output to an hdf5 file."
   ]
  },
  {
   "cell_type": "code",
   "execution_count": null,
   "metadata": {},
   "outputs": [],
   "source": [
    "# Generate only\n",
    "%run ../test/run_generation.py \\\n",
    "    --save_loc \"../examples\" \\\n",
    "    --classes \"COVID_positive:No,Yes\" \\\n",
    "    --subgroup_attributes \"sex:F,M\" \\\n",
    "    --model_file \"/gpfs_projects/alexis.burgon/RST_decision_region_analysis_example_files/example_model.onnx\" \\\n",
    "    --data_csv \"/gpfs_projects/alexis.burgon/RST_decision_region_analysis_example_files/example_input.csv\" \\\n",
    "    --img_rel_path \"/gpfs_projects/alexis.burgon/RST_decision_region_analysis_example_files/\" \\\n",
    "    --n_triplets 5 \\\n",
    "    --steps 20 \\\n",
    "    --shape \"triangle\"\\\n",
    "    --overwrite"
   ]
  },
  {
   "cell_type": "markdown",
   "metadata": {},
   "source": [
    "### Decision Region Analysis\n",
    "Determines the composition (portion of virtual images assigned to each class) ands saves to an output csv. If an argument is passed for plot, generates summary plots as specified.\n",
    "#### Aggregation Modes\n",
    " - `group`: Aggregates composition separately for each group (e.g., Female-Positive)\n",
    " - `class`: Aggregates composition separately for each class (e.g., Positive)\n",
    " - `all`: Aggregates composition of all triplets across all groups/classes; cannot be used with --plot=performance"
   ]
  },
  {
   "cell_type": "code",
   "execution_count": null,
   "metadata": {},
   "outputs": [],
   "source": [
    "# Analysis only\n",
    "\n",
    "%run ../test/run_analysis.py \\\n",
    "    --save-loc \"../examples\" \\\n",
    "    --classes \"COVID_positive:No,Yes\" \\\n",
    "    --subgroup_attributes \"sex:F,M\" \\\n",
    "    --overwrite \\\n",
    "    --aggregate class "
   ]
  },
  {
   "cell_type": "markdown",
   "metadata": {},
   "source": [
    "#### Types of Plots\n",
    "- `composition`: The percentage of virtual images classified as belonging to each class; grouped according to --aggregate.\n",
    "- `performace`: The percentage of virtual images classified as belonging to the same class as their triplet; cannot be used with --aggregate=all\n",
    "- `region`: Plots the individual decision regions of triplets."
   ]
  },
  {
   "cell_type": "code",
   "execution_count": null,
   "metadata": {},
   "outputs": [],
   "source": [
    "# Plot: Composition\n",
    "%run ../test/run_analysis.py \\\n",
    "    --save-loc \"../examples\" \\\n",
    "    --classes \"COVID_positive:No,Yes\" \\\n",
    "    --subgroup_attributes \"sex:F,M\" \\\n",
    "    --aggregate group \\\n",
    "    --plot composition \\\n",
    "    --plot-only --show --display-only"
   ]
  },
  {
   "cell_type": "code",
   "execution_count": null,
   "metadata": {},
   "outputs": [],
   "source": [
    "# Plot: Performance\n",
    "%run ../test/run_analysis.py \\\n",
    "    --save-loc \"../examples\" \\\n",
    "    --classes \"COVID_positive:No,Yes\" \\\n",
    "    --subgroup_attributes \"sex:F,M\" \\\n",
    "    --aggregate class \\\n",
    "    --plot performance \\\n",
    "    --plot-only --show --display-only"
   ]
  },
  {
   "cell_type": "code",
   "execution_count": null,
   "metadata": {},
   "outputs": [],
   "source": [
    "# Plot: region\n",
    "%run ../test/run_analysis.py \\\n",
    "    --save-loc \"../examples\" \\\n",
    "    --classes \"COVID_positive:No,Yes\" \\\n",
    "    --subgroup_attributes \"sex:F,M\" \\\n",
    "    --aggregate group \\\n",
    "    --plot region \\\n",
    "    --plot-threshold 0.7 \\\n",
    "    --n-per-group 4 \\\n",
    "    --plot-only --show --display-only"
   ]
  },
  {
   "cell_type": "markdown",
   "metadata": {},
   "source": [
    "### Complete Implementation\n",
    "Combines the two steps above to generate and analyze decision regions in a single script."
   ]
  },
  {
   "cell_type": "code",
   "execution_count": null,
   "metadata": {},
   "outputs": [],
   "source": [
    "# Complete implementation\n",
    "%run ../test/main.py \\\n",
    "    --save_loc \"../examples\" \\\n",
    "    --classes \"COVID_positive:No,Yes\" \\\n",
    "    --subgroup_attributes \"sex:F,M\" \\\n",
    "    --model_file \"/home/alexis.burgon/RST_decision_region_analysis_example_files/example_model.onnx\" \\\n",
    "    --data_csv \"/home/alexis.burgon/RST_decision_region_analysis_example_files/example_input.csv\" \\\n",
    "    --img_rel_path \"/home/alexis.burgon/RST_decision_region_analysis_example_files/\" \\\n",
    "    --aggregate group \\\n",
    "    --plot composition \\\n",
    "    --show \\\n",
    "    --overwrite"
   ]
  }
 ],
 "metadata": {
  "kernelspec": {
   "display_name": "Python 3.10.6 ('venv_Py310')",
   "language": "python",
   "name": "python3"
  },
  "language_info": {
   "codemirror_mode": {
    "name": "ipython",
    "version": 3
   },
   "file_extension": ".py",
   "mimetype": "text/x-python",
   "name": "python",
   "nbconvert_exporter": "python",
   "pygments_lexer": "ipython3",
   "version": "3.10.6"
  },
  "orig_nbformat": 4,
  "vscode": {
   "interpreter": {
    "hash": "5e95611ce46b16ca337a48a08bd38e31981701f9299b033ca648a6aef12f3f28"
   }
  }
 },
 "nbformat": 4,
 "nbformat_minor": 2
}
